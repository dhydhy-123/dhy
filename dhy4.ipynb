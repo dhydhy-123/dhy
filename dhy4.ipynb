{
 "cells": [
  {
   "cell_type": "code",
   "execution_count": 19,
   "id": "ed5d579d-deae-4312-a382-6e46f2539931",
   "metadata": {},
   "outputs": [],
   "source": [
    "import os\n",
    "from zhipuai import ZhipuAI\n",
    "import base64\n",
    "\n",
    "os.environ[\"ZHIPUAI_API_KEY\"] = \"0cfd22e3a50f046df8d7e41abd8c850b.EFuLekry35DSprxy\"\n",
    "\n",
    "client = ZhipuAI()"
   ]
  },
  {
   "cell_type": "code",
   "execution_count": 17,
   "id": "7429d57f-52de-4b29-9d70-8a136a02240a",
   "metadata": {},
   "outputs": [
    {
     "data": {
      "text/plain": [
       "'C:\\\\users\\\\admin\\\\desktop'"
      ]
     },
     "execution_count": 17,
     "metadata": {},
     "output_type": "execute_result"
    }
   ],
   "source": [
    "pwd"
   ]
  },
  {
   "cell_type": "code",
   "execution_count": 21,
   "id": "540c16e6-8571-4b86-92de-00b23b3dab0e",
   "metadata": {},
   "outputs": [
    {
     "name": "stdout",
     "output_type": "stream",
     "text": [
      "通常来说，视频理解的响应时间较长，需要等待数十秒......\n",
      "CompletionMessage(content='好的，请问您有什么问题需要我帮忙解答吗？我会尽力为您提供帮助。', role='assistant', tool_calls=None)\n"
     ]
    }
   ],
   "source": [
    "video_path = r'C:\\\\users\\\\admin\\\\desktop\\\\video\\\\video_1.mp4'\n",
    "with open(video_path,'rb') as video_file:\n",
    "    video_base = base64.b64encode(video_file.read()).decode('utf-8')\n",
    "    \n",
    "print(\"通常来说，视频理解的响应时间较长，需要等待数十秒......\")\n",
    "\n",
    "response= client.chat.completions.create(\n",
    "    model=\"glm-4v-plus\",\n",
    "    temperature=0.0,\n",
    "    top_p=0,\n",
    "    \n",
    "    messages=[{\n",
    "        \"role\":\"user\",\n",
    "        \"content\":[{\n",
    "            \"type\":\"video_url\",\n",
    "            \"video_url\":{\"url\":video_base}\n",
    "        },{\n",
    "            \"type\":\"text\",\n",
    "            \"text\":\"请仔细，，，\"\n",
    "        }]\n",
    "    }]\n",
    ")\n",
    "\n",
    "print(response.choices[0].message)"
   ]
  },
  {
   "cell_type": "code",
   "execution_count": null,
   "id": "120f843f-d2b8-4224-941b-d0b0413b2002",
   "metadata": {},
   "outputs": [],
   "source": []
  },
  {
   "cell_type": "code",
   "execution_count": null,
   "id": "7de3ba2b-37f6-4dc7-a846-415cbe949ce1",
   "metadata": {},
   "outputs": [],
   "source": []
  }
 ],
 "metadata": {
  "kernelspec": {
   "display_name": "Python 3 (ipykernel)",
   "language": "python",
   "name": "python3"
  },
  "language_info": {
   "codemirror_mode": {
    "name": "ipython",
    "version": 3
   },
   "file_extension": ".py",
   "mimetype": "text/x-python",
   "name": "python",
   "nbconvert_exporter": "python",
   "pygments_lexer": "ipython3",
   "version": "3.9.7"
  }
 },
 "nbformat": 4,
 "nbformat_minor": 5
}
