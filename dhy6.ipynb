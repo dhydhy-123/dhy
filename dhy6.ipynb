{
 "cells": [
  {
   "cell_type": "code",
   "execution_count": 18,
   "id": "3a2976db-86fd-4562-b85a-e1c9fa69bb07",
   "metadata": {},
   "outputs": [
    {
     "name": "stdout",
     "output_type": "stream",
     "text": [
      "VideoObject(id='9761732094444842-9221298769746310558', model='cogvideox', video_result=None, task_status='PROCESSING', request_id='-9221298769746310559')\n"
     ]
    }
   ],
   "source": [
    "from zhipuai import ZhipuAI\n",
    "client = ZhipuAI(api_key=\"0cfd22e3a50f046df8d7e41abd8c850b.EFuLekry35DSprxy\")\n",
    "\n",
    "response = client.videos.generations(\n",
    "    model=\"cogvideox\",\n",
    "    prompt=\"蔡徐坤怎么跳舞的？\"\n",
    ")\n",
    "print(response)"
   ]
  },
  {
   "cell_type": "code",
   "execution_count": 34,
   "id": "7b605f93-cf79-44df-825c-c9dddb8cde93",
   "metadata": {},
   "outputs": [
    {
     "name": "stdout",
     "output_type": "stream",
     "text": [
      "VideoObject(id=None, model='cogvideox', video_result=[VideoResult(url='https://aigc-files.bigmodel.cn/api/cogvideo/370a5da2-a7da-11ef-a354-628f45da38f5_0.mp4', cover_image_url='https://aigc-files.bigmodel.cn/api/cogvideo/370a5da2-a7da-11ef-a354-628f45da38f5_cover_0.jpeg')], task_status='SUCCESS', request_id='-9221298769746310559')\n"
     ]
    }
   ],
   "source": [
    "from zhipuai import ZhipuAI\n",
    "client = ZhipuAI(api_key=\"0cfd22e3a50f046df8d7e41abd8c850b.EFuLekry35DSprxy\")\n",
    "\n",
    "response = client.videos.retrieve_videos_result(\n",
    "    id=\"9761732094444842-9221298769746310558\"\n",
    ")\n",
    "print(response)"
   ]
  },
  {
   "cell_type": "code",
   "execution_count": null,
   "id": "00dd94e5-e4b6-458d-b379-58be528eec8a",
   "metadata": {},
   "outputs": [],
   "source": []
  },
  {
   "cell_type": "code",
   "execution_count": null,
   "id": "6be73a44-72e1-4fc7-8e8f-682baeaa394b",
   "metadata": {},
   "outputs": [],
   "source": []
  },
  {
   "cell_type": "code",
   "execution_count": 35,
   "id": "20128ab5-7118-42e0-9752-7760b619e357",
   "metadata": {},
   "outputs": [
    {
     "name": "stdout",
     "output_type": "stream",
     "text": [
      "VideoObject(id=None, model='cogvideox', video_result=[VideoResult(url='https://aigc-files.bigmodel.cn/api/cogvideo/370a5da2-a7da-11ef-a354-628f45da38f5_0.mp4', cover_image_url='https://aigc-files.bigmodel.cn/api/cogvideo/370a5da2-a7da-11ef-a354-628f45da38f5_cover_0.jpeg')], task_status='SUCCESS', request_id='-9221298769746310559')\n"
     ]
    }
   ],
   "source": [
    "from zhipuai import ZhipuAI\n",
    "client = ZhipuAI(api_key=\"0cfd22e3a50f046df8d7e41abd8c850b.EFuLekry35DSprxy\")\n",
    "response = client.videos.retrieve_videos_result(\n",
    "    id=\"9761732094444842-9221298769746310558\"\n",
    ")\n",
    "print(response)"
   ]
  },
  {
   "cell_type": "code",
   "execution_count": 41,
   "id": "7ca35a43-d491-435f-9cb0-2e1b454038d8",
   "metadata": {},
   "outputs": [
    {
     "name": "stdout",
     "output_type": "stream",
     "text": [
      "VideoObject(id='9761732094444842-9221298563587698087', model='cogvideox', video_result=None, task_status='PROCESSING', request_id='-9221298563587698088')\n"
     ]
    }
   ],
   "source": [
    "from zhipuai import ZhipuAI\n",
    "client = ZhipuAI(api_key=\"0cfd22e3a50f046df8d7e41abd8c850b.EFuLekry35DSprxy\")\n",
    "response = client.videos.generations(\n",
    "    model=\"cogvideox\",\n",
    "    image_url ='https://aigc-files.bigmodel.cn/api/cogvideo/370a5da2-a7da-11ef-a354-628f45da38f5_cover_0.jpeg',\n",
    "    prompt=\"人物跳起舞来\")\n",
    "\n",
    "print(response)"
   ]
  },
  {
   "cell_type": "code",
   "execution_count": null,
   "id": "1628a31a-468c-4187-90a4-749cd4b579b2",
   "metadata": {},
   "outputs": [],
   "source": []
  }
 ],
 "metadata": {
  "kernelspec": {
   "display_name": "Python 3 (ipykernel)",
   "language": "python",
   "name": "python3"
  },
  "language_info": {
   "codemirror_mode": {
    "name": "ipython",
    "version": 3
   },
   "file_extension": ".py",
   "mimetype": "text/x-python",
   "name": "python",
   "nbconvert_exporter": "python",
   "pygments_lexer": "ipython3",
   "version": "3.9.7"
  }
 },
 "nbformat": 4,
 "nbformat_minor": 5
}
